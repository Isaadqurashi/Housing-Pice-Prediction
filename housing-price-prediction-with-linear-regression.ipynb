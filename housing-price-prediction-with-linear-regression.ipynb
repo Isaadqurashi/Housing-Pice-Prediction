{
 "cells": [
  {
   "cell_type": "markdown",
   "metadata": {},
   "source": [
    "Here, I am trying to run multiple linear regression with mulitple variables without using sklearn , and understand the background math steps. "
   ]
  },
  {
   "cell_type": "code",
   "execution_count": 1,
   "metadata": {
    "execution": {
     "iopub.execute_input": "2024-12-14T19:49:05.834944Z",
     "iopub.status.busy": "2024-12-14T19:49:05.834541Z",
     "iopub.status.idle": "2024-12-14T19:49:06.203161Z",
     "shell.execute_reply": "2024-12-14T19:49:06.202000Z",
     "shell.execute_reply.started": "2024-12-14T19:49:05.834910Z"
    },
    "trusted": true
   },
   "outputs": [],
   "source": [
    "import numpy as np\n",
    "import pandas as pd\n",
    "import matplotlib.pyplot as plt \n",
    "import seaborn as sns\n",
    "from sklearn.model_selection import train_test_split\n",
    "import copy\n",
    "import math\n",
    "import os \n",
    "%matplotlib inline"
   ]
  },
  {
   "cell_type": "code",
   "execution_count": 2,
   "metadata": {
    "execution": {
     "iopub.execute_input": "2024-12-14T19:49:06.205099Z",
     "iopub.status.busy": "2024-12-14T19:49:06.204657Z",
     "iopub.status.idle": "2024-12-14T19:49:06.214907Z",
     "shell.execute_reply": "2024-12-14T19:49:06.213448Z",
     "shell.execute_reply.started": "2024-12-14T19:49:06.205065Z"
    },
    "trusted": true
   },
   "outputs": [],
   "source": [
    "# print(os.listdir(\"./\"))\n",
    "for dirname, _, filenames in os.walk('/kaggle/input'):\n",
    "    for filename in filenames:\n",
    "        print(os.path.join(dirname, filename))"
   ]
  },
  {
   "cell_type": "code",
   "execution_count": 3,
   "metadata": {
    "execution": {
     "iopub.execute_input": "2024-12-14T19:49:06.216330Z",
     "iopub.status.busy": "2024-12-14T19:49:06.215999Z",
     "iopub.status.idle": "2024-12-14T19:49:06.254915Z",
     "shell.execute_reply": "2024-12-14T19:49:06.253673Z",
     "shell.execute_reply.started": "2024-12-14T19:49:06.216294Z"
    },
    "trusted": true
   },
   "outputs": [
    {
     "data": {
      "text/html": [
       "<div>\n",
       "<style scoped>\n",
       "    .dataframe tbody tr th:only-of-type {\n",
       "        vertical-align: middle;\n",
       "    }\n",
       "\n",
       "    .dataframe tbody tr th {\n",
       "        vertical-align: top;\n",
       "    }\n",
       "\n",
       "    .dataframe thead th {\n",
       "        text-align: right;\n",
       "    }\n",
       "</style>\n",
       "<table border=\"1\" class=\"dataframe\">\n",
       "  <thead>\n",
       "    <tr style=\"text-align: right;\">\n",
       "      <th></th>\n",
       "      <th>price</th>\n",
       "      <th>area</th>\n",
       "      <th>bedrooms</th>\n",
       "      <th>bathrooms</th>\n",
       "      <th>stories</th>\n",
       "      <th>mainroad</th>\n",
       "      <th>guestroom</th>\n",
       "      <th>basement</th>\n",
       "      <th>hotwaterheating</th>\n",
       "      <th>airconditioning</th>\n",
       "      <th>parking</th>\n",
       "      <th>prefarea</th>\n",
       "      <th>furnishingstatus</th>\n",
       "    </tr>\n",
       "  </thead>\n",
       "  <tbody>\n",
       "    <tr>\n",
       "      <th>0</th>\n",
       "      <td>13300000</td>\n",
       "      <td>7420</td>\n",
       "      <td>4</td>\n",
       "      <td>2</td>\n",
       "      <td>3</td>\n",
       "      <td>yes</td>\n",
       "      <td>no</td>\n",
       "      <td>no</td>\n",
       "      <td>no</td>\n",
       "      <td>yes</td>\n",
       "      <td>2</td>\n",
       "      <td>yes</td>\n",
       "      <td>furnished</td>\n",
       "    </tr>\n",
       "    <tr>\n",
       "      <th>1</th>\n",
       "      <td>12250000</td>\n",
       "      <td>8960</td>\n",
       "      <td>4</td>\n",
       "      <td>4</td>\n",
       "      <td>4</td>\n",
       "      <td>yes</td>\n",
       "      <td>no</td>\n",
       "      <td>no</td>\n",
       "      <td>no</td>\n",
       "      <td>yes</td>\n",
       "      <td>3</td>\n",
       "      <td>no</td>\n",
       "      <td>furnished</td>\n",
       "    </tr>\n",
       "    <tr>\n",
       "      <th>2</th>\n",
       "      <td>12250000</td>\n",
       "      <td>9960</td>\n",
       "      <td>3</td>\n",
       "      <td>2</td>\n",
       "      <td>2</td>\n",
       "      <td>yes</td>\n",
       "      <td>no</td>\n",
       "      <td>yes</td>\n",
       "      <td>no</td>\n",
       "      <td>no</td>\n",
       "      <td>2</td>\n",
       "      <td>yes</td>\n",
       "      <td>semi-furnished</td>\n",
       "    </tr>\n",
       "    <tr>\n",
       "      <th>3</th>\n",
       "      <td>12215000</td>\n",
       "      <td>7500</td>\n",
       "      <td>4</td>\n",
       "      <td>2</td>\n",
       "      <td>2</td>\n",
       "      <td>yes</td>\n",
       "      <td>no</td>\n",
       "      <td>yes</td>\n",
       "      <td>no</td>\n",
       "      <td>yes</td>\n",
       "      <td>3</td>\n",
       "      <td>yes</td>\n",
       "      <td>furnished</td>\n",
       "    </tr>\n",
       "    <tr>\n",
       "      <th>4</th>\n",
       "      <td>11410000</td>\n",
       "      <td>7420</td>\n",
       "      <td>4</td>\n",
       "      <td>1</td>\n",
       "      <td>2</td>\n",
       "      <td>yes</td>\n",
       "      <td>yes</td>\n",
       "      <td>yes</td>\n",
       "      <td>no</td>\n",
       "      <td>yes</td>\n",
       "      <td>2</td>\n",
       "      <td>no</td>\n",
       "      <td>furnished</td>\n",
       "    </tr>\n",
       "    <tr>\n",
       "      <th>5</th>\n",
       "      <td>10850000</td>\n",
       "      <td>7500</td>\n",
       "      <td>3</td>\n",
       "      <td>3</td>\n",
       "      <td>1</td>\n",
       "      <td>yes</td>\n",
       "      <td>no</td>\n",
       "      <td>yes</td>\n",
       "      <td>no</td>\n",
       "      <td>yes</td>\n",
       "      <td>2</td>\n",
       "      <td>yes</td>\n",
       "      <td>semi-furnished</td>\n",
       "    </tr>\n",
       "    <tr>\n",
       "      <th>6</th>\n",
       "      <td>10150000</td>\n",
       "      <td>8580</td>\n",
       "      <td>4</td>\n",
       "      <td>3</td>\n",
       "      <td>4</td>\n",
       "      <td>yes</td>\n",
       "      <td>no</td>\n",
       "      <td>no</td>\n",
       "      <td>no</td>\n",
       "      <td>yes</td>\n",
       "      <td>2</td>\n",
       "      <td>yes</td>\n",
       "      <td>semi-furnished</td>\n",
       "    </tr>\n",
       "    <tr>\n",
       "      <th>7</th>\n",
       "      <td>10150000</td>\n",
       "      <td>16200</td>\n",
       "      <td>5</td>\n",
       "      <td>3</td>\n",
       "      <td>2</td>\n",
       "      <td>yes</td>\n",
       "      <td>no</td>\n",
       "      <td>no</td>\n",
       "      <td>no</td>\n",
       "      <td>no</td>\n",
       "      <td>0</td>\n",
       "      <td>no</td>\n",
       "      <td>unfurnished</td>\n",
       "    </tr>\n",
       "    <tr>\n",
       "      <th>8</th>\n",
       "      <td>9870000</td>\n",
       "      <td>8100</td>\n",
       "      <td>4</td>\n",
       "      <td>1</td>\n",
       "      <td>2</td>\n",
       "      <td>yes</td>\n",
       "      <td>yes</td>\n",
       "      <td>yes</td>\n",
       "      <td>no</td>\n",
       "      <td>yes</td>\n",
       "      <td>2</td>\n",
       "      <td>yes</td>\n",
       "      <td>furnished</td>\n",
       "    </tr>\n",
       "    <tr>\n",
       "      <th>9</th>\n",
       "      <td>9800000</td>\n",
       "      <td>5750</td>\n",
       "      <td>3</td>\n",
       "      <td>2</td>\n",
       "      <td>4</td>\n",
       "      <td>yes</td>\n",
       "      <td>yes</td>\n",
       "      <td>no</td>\n",
       "      <td>no</td>\n",
       "      <td>yes</td>\n",
       "      <td>1</td>\n",
       "      <td>yes</td>\n",
       "      <td>unfurnished</td>\n",
       "    </tr>\n",
       "  </tbody>\n",
       "</table>\n",
       "</div>"
      ],
      "text/plain": [
       "      price   area  bedrooms  bathrooms  stories mainroad guestroom basement  \\\n",
       "0  13300000   7420         4          2        3      yes        no       no   \n",
       "1  12250000   8960         4          4        4      yes        no       no   \n",
       "2  12250000   9960         3          2        2      yes        no      yes   \n",
       "3  12215000   7500         4          2        2      yes        no      yes   \n",
       "4  11410000   7420         4          1        2      yes       yes      yes   \n",
       "5  10850000   7500         3          3        1      yes        no      yes   \n",
       "6  10150000   8580         4          3        4      yes        no       no   \n",
       "7  10150000  16200         5          3        2      yes        no       no   \n",
       "8   9870000   8100         4          1        2      yes       yes      yes   \n",
       "9   9800000   5750         3          2        4      yes       yes       no   \n",
       "\n",
       "  hotwaterheating airconditioning  parking prefarea furnishingstatus  \n",
       "0              no             yes        2      yes        furnished  \n",
       "1              no             yes        3       no        furnished  \n",
       "2              no              no        2      yes   semi-furnished  \n",
       "3              no             yes        3      yes        furnished  \n",
       "4              no             yes        2       no        furnished  \n",
       "5              no             yes        2      yes   semi-furnished  \n",
       "6              no             yes        2      yes   semi-furnished  \n",
       "7              no              no        0       no      unfurnished  \n",
       "8              no             yes        2      yes        furnished  \n",
       "9              no             yes        1      yes      unfurnished  "
      ]
     },
     "execution_count": 3,
     "metadata": {},
     "output_type": "execute_result"
    }
   ],
   "source": [
    "df=pd.read_csv(\"Housing.csv\")\n",
    "df.head(10)"
   ]
  },
  {
   "cell_type": "code",
   "execution_count": 4,
   "metadata": {
    "execution": {
     "iopub.execute_input": "2024-12-14T19:49:06.339831Z",
     "iopub.status.busy": "2024-12-14T19:49:06.339277Z",
     "iopub.status.idle": "2024-12-14T19:49:06.363281Z",
     "shell.execute_reply": "2024-12-14T19:49:06.361853Z",
     "shell.execute_reply.started": "2024-12-14T19:49:06.339780Z"
    },
    "trusted": true
   },
   "outputs": [
    {
     "data": {
      "text/html": [
       "<div>\n",
       "<style scoped>\n",
       "    .dataframe tbody tr th:only-of-type {\n",
       "        vertical-align: middle;\n",
       "    }\n",
       "\n",
       "    .dataframe tbody tr th {\n",
       "        vertical-align: top;\n",
       "    }\n",
       "\n",
       "    .dataframe thead th {\n",
       "        text-align: right;\n",
       "    }\n",
       "</style>\n",
       "<table border=\"1\" class=\"dataframe\">\n",
       "  <thead>\n",
       "    <tr style=\"text-align: right;\">\n",
       "      <th></th>\n",
       "      <th>price</th>\n",
       "      <th>area</th>\n",
       "      <th>bedrooms</th>\n",
       "      <th>bathrooms</th>\n",
       "      <th>stories</th>\n",
       "      <th>mainroad</th>\n",
       "      <th>guestroom</th>\n",
       "      <th>basement</th>\n",
       "      <th>hotwaterheating</th>\n",
       "      <th>airconditioning</th>\n",
       "      <th>parking</th>\n",
       "      <th>prefarea</th>\n",
       "      <th>furnishingstatus</th>\n",
       "    </tr>\n",
       "  </thead>\n",
       "  <tbody>\n",
       "    <tr>\n",
       "      <th>535</th>\n",
       "      <td>2100000</td>\n",
       "      <td>3360</td>\n",
       "      <td>2</td>\n",
       "      <td>1</td>\n",
       "      <td>1</td>\n",
       "      <td>yes</td>\n",
       "      <td>no</td>\n",
       "      <td>no</td>\n",
       "      <td>no</td>\n",
       "      <td>no</td>\n",
       "      <td>1</td>\n",
       "      <td>no</td>\n",
       "      <td>unfurnished</td>\n",
       "    </tr>\n",
       "    <tr>\n",
       "      <th>536</th>\n",
       "      <td>1960000</td>\n",
       "      <td>3420</td>\n",
       "      <td>5</td>\n",
       "      <td>1</td>\n",
       "      <td>2</td>\n",
       "      <td>no</td>\n",
       "      <td>no</td>\n",
       "      <td>no</td>\n",
       "      <td>no</td>\n",
       "      <td>no</td>\n",
       "      <td>0</td>\n",
       "      <td>no</td>\n",
       "      <td>unfurnished</td>\n",
       "    </tr>\n",
       "    <tr>\n",
       "      <th>537</th>\n",
       "      <td>1890000</td>\n",
       "      <td>1700</td>\n",
       "      <td>3</td>\n",
       "      <td>1</td>\n",
       "      <td>2</td>\n",
       "      <td>yes</td>\n",
       "      <td>no</td>\n",
       "      <td>no</td>\n",
       "      <td>no</td>\n",
       "      <td>no</td>\n",
       "      <td>0</td>\n",
       "      <td>no</td>\n",
       "      <td>unfurnished</td>\n",
       "    </tr>\n",
       "    <tr>\n",
       "      <th>538</th>\n",
       "      <td>1890000</td>\n",
       "      <td>3649</td>\n",
       "      <td>2</td>\n",
       "      <td>1</td>\n",
       "      <td>1</td>\n",
       "      <td>yes</td>\n",
       "      <td>no</td>\n",
       "      <td>no</td>\n",
       "      <td>no</td>\n",
       "      <td>no</td>\n",
       "      <td>0</td>\n",
       "      <td>no</td>\n",
       "      <td>unfurnished</td>\n",
       "    </tr>\n",
       "    <tr>\n",
       "      <th>539</th>\n",
       "      <td>1855000</td>\n",
       "      <td>2990</td>\n",
       "      <td>2</td>\n",
       "      <td>1</td>\n",
       "      <td>1</td>\n",
       "      <td>no</td>\n",
       "      <td>no</td>\n",
       "      <td>no</td>\n",
       "      <td>no</td>\n",
       "      <td>no</td>\n",
       "      <td>1</td>\n",
       "      <td>no</td>\n",
       "      <td>unfurnished</td>\n",
       "    </tr>\n",
       "    <tr>\n",
       "      <th>540</th>\n",
       "      <td>1820000</td>\n",
       "      <td>3000</td>\n",
       "      <td>2</td>\n",
       "      <td>1</td>\n",
       "      <td>1</td>\n",
       "      <td>yes</td>\n",
       "      <td>no</td>\n",
       "      <td>yes</td>\n",
       "      <td>no</td>\n",
       "      <td>no</td>\n",
       "      <td>2</td>\n",
       "      <td>no</td>\n",
       "      <td>unfurnished</td>\n",
       "    </tr>\n",
       "    <tr>\n",
       "      <th>541</th>\n",
       "      <td>1767150</td>\n",
       "      <td>2400</td>\n",
       "      <td>3</td>\n",
       "      <td>1</td>\n",
       "      <td>1</td>\n",
       "      <td>no</td>\n",
       "      <td>no</td>\n",
       "      <td>no</td>\n",
       "      <td>no</td>\n",
       "      <td>no</td>\n",
       "      <td>0</td>\n",
       "      <td>no</td>\n",
       "      <td>semi-furnished</td>\n",
       "    </tr>\n",
       "    <tr>\n",
       "      <th>542</th>\n",
       "      <td>1750000</td>\n",
       "      <td>3620</td>\n",
       "      <td>2</td>\n",
       "      <td>1</td>\n",
       "      <td>1</td>\n",
       "      <td>yes</td>\n",
       "      <td>no</td>\n",
       "      <td>no</td>\n",
       "      <td>no</td>\n",
       "      <td>no</td>\n",
       "      <td>0</td>\n",
       "      <td>no</td>\n",
       "      <td>unfurnished</td>\n",
       "    </tr>\n",
       "    <tr>\n",
       "      <th>543</th>\n",
       "      <td>1750000</td>\n",
       "      <td>2910</td>\n",
       "      <td>3</td>\n",
       "      <td>1</td>\n",
       "      <td>1</td>\n",
       "      <td>no</td>\n",
       "      <td>no</td>\n",
       "      <td>no</td>\n",
       "      <td>no</td>\n",
       "      <td>no</td>\n",
       "      <td>0</td>\n",
       "      <td>no</td>\n",
       "      <td>furnished</td>\n",
       "    </tr>\n",
       "    <tr>\n",
       "      <th>544</th>\n",
       "      <td>1750000</td>\n",
       "      <td>3850</td>\n",
       "      <td>3</td>\n",
       "      <td>1</td>\n",
       "      <td>2</td>\n",
       "      <td>yes</td>\n",
       "      <td>no</td>\n",
       "      <td>no</td>\n",
       "      <td>no</td>\n",
       "      <td>no</td>\n",
       "      <td>0</td>\n",
       "      <td>no</td>\n",
       "      <td>unfurnished</td>\n",
       "    </tr>\n",
       "  </tbody>\n",
       "</table>\n",
       "</div>"
      ],
      "text/plain": [
       "       price  area  bedrooms  bathrooms  stories mainroad guestroom basement  \\\n",
       "535  2100000  3360         2          1        1      yes        no       no   \n",
       "536  1960000  3420         5          1        2       no        no       no   \n",
       "537  1890000  1700         3          1        2      yes        no       no   \n",
       "538  1890000  3649         2          1        1      yes        no       no   \n",
       "539  1855000  2990         2          1        1       no        no       no   \n",
       "540  1820000  3000         2          1        1      yes        no      yes   \n",
       "541  1767150  2400         3          1        1       no        no       no   \n",
       "542  1750000  3620         2          1        1      yes        no       no   \n",
       "543  1750000  2910         3          1        1       no        no       no   \n",
       "544  1750000  3850         3          1        2      yes        no       no   \n",
       "\n",
       "    hotwaterheating airconditioning  parking prefarea furnishingstatus  \n",
       "535              no              no        1       no      unfurnished  \n",
       "536              no              no        0       no      unfurnished  \n",
       "537              no              no        0       no      unfurnished  \n",
       "538              no              no        0       no      unfurnished  \n",
       "539              no              no        1       no      unfurnished  \n",
       "540              no              no        2       no      unfurnished  \n",
       "541              no              no        0       no   semi-furnished  \n",
       "542              no              no        0       no      unfurnished  \n",
       "543              no              no        0       no        furnished  \n",
       "544              no              no        0       no      unfurnished  "
      ]
     },
     "execution_count": 4,
     "metadata": {},
     "output_type": "execute_result"
    }
   ],
   "source": [
    "df.tail(10)"
   ]
  },
  {
   "cell_type": "code",
   "execution_count": 5,
   "metadata": {
    "execution": {
     "iopub.execute_input": "2024-12-14T19:49:06.479698Z",
     "iopub.status.busy": "2024-12-14T19:49:06.479261Z",
     "iopub.status.idle": "2024-12-14T19:49:06.487559Z",
     "shell.execute_reply": "2024-12-14T19:49:06.486284Z",
     "shell.execute_reply.started": "2024-12-14T19:49:06.479662Z"
    },
    "trusted": true
   },
   "outputs": [
    {
     "data": {
      "text/plain": [
       "(545, 13)"
      ]
     },
     "execution_count": 5,
     "metadata": {},
     "output_type": "execute_result"
    }
   ],
   "source": [
    "df.shape\n"
   ]
  },
  {
   "cell_type": "code",
   "execution_count": 6,
   "metadata": {
    "execution": {
     "iopub.execute_input": "2024-12-14T19:49:06.635831Z",
     "iopub.status.busy": "2024-12-14T19:49:06.635440Z",
     "iopub.status.idle": "2024-12-14T19:49:06.662148Z",
     "shell.execute_reply": "2024-12-14T19:49:06.660684Z",
     "shell.execute_reply.started": "2024-12-14T19:49:06.635796Z"
    },
    "trusted": true
   },
   "outputs": [
    {
     "name": "stdout",
     "output_type": "stream",
     "text": [
      "<class 'pandas.core.frame.DataFrame'>\n",
      "RangeIndex: 545 entries, 0 to 544\n",
      "Data columns (total 13 columns):\n",
      " #   Column            Non-Null Count  Dtype \n",
      "---  ------            --------------  ----- \n",
      " 0   price             545 non-null    int64 \n",
      " 1   area              545 non-null    int64 \n",
      " 2   bedrooms          545 non-null    int64 \n",
      " 3   bathrooms         545 non-null    int64 \n",
      " 4   stories           545 non-null    int64 \n",
      " 5   mainroad          545 non-null    object\n",
      " 6   guestroom         545 non-null    object\n",
      " 7   basement          545 non-null    object\n",
      " 8   hotwaterheating   545 non-null    object\n",
      " 9   airconditioning   545 non-null    object\n",
      " 10  parking           545 non-null    int64 \n",
      " 11  prefarea          545 non-null    object\n",
      " 12  furnishingstatus  545 non-null    object\n",
      "dtypes: int64(6), object(7)\n",
      "memory usage: 55.5+ KB\n"
     ]
    }
   ],
   "source": [
    "df.info()"
   ]
  },
  {
   "cell_type": "code",
   "execution_count": 7,
   "metadata": {
    "execution": {
     "iopub.execute_input": "2024-12-14T19:49:06.795719Z",
     "iopub.status.busy": "2024-12-14T19:49:06.795188Z",
     "iopub.status.idle": "2024-12-14T19:49:06.806927Z",
     "shell.execute_reply": "2024-12-14T19:49:06.805295Z",
     "shell.execute_reply.started": "2024-12-14T19:49:06.795666Z"
    },
    "trusted": true
   },
   "outputs": [
    {
     "data": {
      "text/plain": [
       "price               0\n",
       "area                0\n",
       "bedrooms            0\n",
       "bathrooms           0\n",
       "stories             0\n",
       "mainroad            0\n",
       "guestroom           0\n",
       "basement            0\n",
       "hotwaterheating     0\n",
       "airconditioning     0\n",
       "parking             0\n",
       "prefarea            0\n",
       "furnishingstatus    0\n",
       "dtype: int64"
      ]
     },
     "execution_count": 7,
     "metadata": {},
     "output_type": "execute_result"
    }
   ],
   "source": [
    "df.isnull().sum()"
   ]
  },
  {
   "cell_type": "code",
   "execution_count": null,
   "metadata": {
    "execution": {
     "iopub.execute_input": "2024-12-14T19:49:06.963263Z",
     "iopub.status.busy": "2024-12-14T19:49:06.961864Z",
     "iopub.status.idle": "2024-12-14T19:49:06.997095Z",
     "shell.execute_reply": "2024-12-14T19:49:06.995821Z",
     "shell.execute_reply.started": "2024-12-14T19:49:06.963212Z"
    },
    "trusted": true
   },
   "outputs": [
    {
     "data": {
      "text/html": [
       "<div>\n",
       "<style scoped>\n",
       "    .dataframe tbody tr th:only-of-type {\n",
       "        vertical-align: middle;\n",
       "    }\n",
       "\n",
       "    .dataframe tbody tr th {\n",
       "        vertical-align: top;\n",
       "    }\n",
       "\n",
       "    .dataframe thead th {\n",
       "        text-align: right;\n",
       "    }\n",
       "</style>\n",
       "<table border=\"1\" class=\"dataframe\">\n",
       "  <thead>\n",
       "    <tr style=\"text-align: right;\">\n",
       "      <th></th>\n",
       "      <th>count</th>\n",
       "      <th>mean</th>\n",
       "      <th>std</th>\n",
       "      <th>min</th>\n",
       "      <th>25%</th>\n",
       "      <th>50%</th>\n",
       "      <th>75%</th>\n",
       "      <th>max</th>\n",
       "    </tr>\n",
       "  </thead>\n",
       "  <tbody>\n",
       "    <tr>\n",
       "      <th>price</th>\n",
       "      <td>545.0</td>\n",
       "      <td>4.766729e+06</td>\n",
       "      <td>1.870440e+06</td>\n",
       "      <td>1750000.0</td>\n",
       "      <td>3430000.0</td>\n",
       "      <td>4340000.0</td>\n",
       "      <td>5740000.0</td>\n",
       "      <td>13300000.0</td>\n",
       "    </tr>\n",
       "    <tr>\n",
       "      <th>area</th>\n",
       "      <td>545.0</td>\n",
       "      <td>5.150541e+03</td>\n",
       "      <td>2.170141e+03</td>\n",
       "      <td>1650.0</td>\n",
       "      <td>3600.0</td>\n",
       "      <td>4600.0</td>\n",
       "      <td>6360.0</td>\n",
       "      <td>16200.0</td>\n",
       "    </tr>\n",
       "    <tr>\n",
       "      <th>bedrooms</th>\n",
       "      <td>545.0</td>\n",
       "      <td>2.965138e+00</td>\n",
       "      <td>7.380639e-01</td>\n",
       "      <td>1.0</td>\n",
       "      <td>2.0</td>\n",
       "      <td>3.0</td>\n",
       "      <td>3.0</td>\n",
       "      <td>6.0</td>\n",
       "    </tr>\n",
       "    <tr>\n",
       "      <th>bathrooms</th>\n",
       "      <td>545.0</td>\n",
       "      <td>1.286239e+00</td>\n",
       "      <td>5.024696e-01</td>\n",
       "      <td>1.0</td>\n",
       "      <td>1.0</td>\n",
       "      <td>1.0</td>\n",
       "      <td>2.0</td>\n",
       "      <td>4.0</td>\n",
       "    </tr>\n",
       "    <tr>\n",
       "      <th>stories</th>\n",
       "      <td>545.0</td>\n",
       "      <td>1.805505e+00</td>\n",
       "      <td>8.674925e-01</td>\n",
       "      <td>1.0</td>\n",
       "      <td>1.0</td>\n",
       "      <td>2.0</td>\n",
       "      <td>2.0</td>\n",
       "      <td>4.0</td>\n",
       "    </tr>\n",
       "    <tr>\n",
       "      <th>parking</th>\n",
       "      <td>545.0</td>\n",
       "      <td>6.935780e-01</td>\n",
       "      <td>8.615858e-01</td>\n",
       "      <td>0.0</td>\n",
       "      <td>0.0</td>\n",
       "      <td>0.0</td>\n",
       "      <td>1.0</td>\n",
       "      <td>3.0</td>\n",
       "    </tr>\n",
       "  </tbody>\n",
       "</table>\n",
       "</div>"
      ],
      "text/plain": [
       "           count          mean           std        min        25%        50%  \\\n",
       "price      545.0  4.766729e+06  1.870440e+06  1750000.0  3430000.0  4340000.0   \n",
       "area       545.0  5.150541e+03  2.170141e+03     1650.0     3600.0     4600.0   \n",
       "bedrooms   545.0  2.965138e+00  7.380639e-01        1.0        2.0        3.0   \n",
       "bathrooms  545.0  1.286239e+00  5.024696e-01        1.0        1.0        1.0   \n",
       "stories    545.0  1.805505e+00  8.674925e-01        1.0        1.0        2.0   \n",
       "parking    545.0  6.935780e-01  8.615858e-01        0.0        0.0        0.0   \n",
       "\n",
       "                 75%         max  \n",
       "price      5740000.0  13300000.0  \n",
       "area          6360.0     16200.0  \n",
       "bedrooms         3.0         6.0  \n",
       "bathrooms        2.0         4.0  \n",
       "stories          2.0         4.0  \n",
       "parking          1.0         3.0  "
      ]
     },
     "execution_count": 8,
     "metadata": {},
     "output_type": "execute_result"
    }
   ],
   "source": [
    "df.describe().transpose()"
   ]
  },
  {
   "cell_type": "code",
   "execution_count": 9,
   "metadata": {
    "execution": {
     "iopub.execute_input": "2024-12-14T19:49:07.236279Z",
     "iopub.status.busy": "2024-12-14T19:49:07.235783Z",
     "iopub.status.idle": "2024-12-14T19:49:07.248551Z",
     "shell.execute_reply": "2024-12-14T19:49:07.247387Z",
     "shell.execute_reply.started": "2024-12-14T19:49:07.236231Z"
    },
    "trusted": true
   },
   "outputs": [
    {
     "data": {
      "text/plain": [
       "np.int64(0)"
      ]
     },
     "execution_count": 9,
     "metadata": {},
     "output_type": "execute_result"
    }
   ],
   "source": [
    "df.duplicated().sum()"
   ]
  },
  {
   "cell_type": "code",
   "execution_count": 10,
   "metadata": {
    "execution": {
     "iopub.execute_input": "2024-12-14T19:49:07.315339Z",
     "iopub.status.busy": "2024-12-14T19:49:07.314221Z",
     "iopub.status.idle": "2024-12-14T19:49:07.613295Z",
     "shell.execute_reply": "2024-12-14T19:49:07.611951Z",
     "shell.execute_reply.started": "2024-12-14T19:49:07.315275Z"
    },
    "trusted": true
   },
   "outputs": [
    {
     "data": {
      "image/png": "[encoded data removed]",
      "text/plain": [
       "<Figure size 640x480 with 1 Axes>"
      ]
     },
     "metadata": {},
     "output_type": "display_data"
    }
   ],
   "source": [
    "plt.hist(df['price'],bins=20,edgecolor='black')\n",
    "plt.title(\"Distribution of Housing Prices\")\n",
    "plt.xlabel(\"Price\")\n",
    "plt.ylabel('Frequency')\n",
    "plt.show()\n"
   ]
  },
  {
   "cell_type": "code",
   "execution_count": 11,
   "metadata": {
    "execution": {
     "iopub.execute_input": "2024-12-14T19:49:07.615944Z",
     "iopub.status.busy": "2024-12-14T19:49:07.615499Z",
     "iopub.status.idle": "2024-12-14T19:49:08.044604Z",
     "shell.execute_reply": "2024-12-14T19:49:08.043106Z",
     "shell.execute_reply.started": "2024-12-14T19:49:07.615897Z"
    },
    "trusted": true
   },
   "outputs": [
    {
     "data": {
      "text/plain": [
       "<Axes: >"
      ]
     },
     "execution_count": 11,
     "metadata": {},
     "output_type": "execute_result"
    },
    {
     "data": {
      "image/png": "[encoded data removed]",
      "text/plain": [
       "<Figure size 640x480 with 2 Axes>"
      ]
     },
     "metadata": {},
     "output_type": "display_data"
    }
   ],
   "source": [
    "int_cols=df.select_dtypes(include=np.number).columns\n",
    "sns.heatmap(df[int_cols].corr(),annot=True)"
   ]
  },
  {
   "cell_type": "code",
   "execution_count": 12,
   "metadata": {
    "execution": {
     "iopub.execute_input": "2024-12-14T19:49:08.046764Z",
     "iopub.status.busy": "2024-12-14T19:49:08.046229Z",
     "iopub.status.idle": "2024-12-14T19:49:08.051818Z",
     "shell.execute_reply": "2024-12-14T19:49:08.050780Z",
     "shell.execute_reply.started": "2024-12-14T19:49:08.046710Z"
    },
    "trusted": true
   },
   "outputs": [],
   "source": [
    "data=df.copy\n"
   ]
  },
  {
   "cell_type": "code",
   "execution_count": 13,
   "metadata": {
    "execution": {
     "iopub.execute_input": "2024-12-14T19:49:08.054550Z",
     "iopub.status.busy": "2024-12-14T19:49:08.054139Z",
     "iopub.status.idle": "2024-12-14T19:49:08.088059Z",
     "shell.execute_reply": "2024-12-14T19:49:08.086478Z",
     "shell.execute_reply.started": "2024-12-14T19:49:08.054513Z"
    },
    "trusted": true
   },
   "outputs": [
    {
     "data": {
      "text/html": [
       "<div>\n",
       "<style scoped>\n",
       "    .dataframe tbody tr th:only-of-type {\n",
       "        vertical-align: middle;\n",
       "    }\n",
       "\n",
       "    .dataframe tbody tr th {\n",
       "        vertical-align: top;\n",
       "    }\n",
       "\n",
       "    .dataframe thead th {\n",
       "        text-align: right;\n",
       "    }\n",
       "</style>\n",
       "<table border=\"1\" class=\"dataframe\">\n",
       "  <thead>\n",
       "    <tr style=\"text-align: right;\">\n",
       "      <th></th>\n",
       "      <th>area</th>\n",
       "      <th>bedrooms</th>\n",
       "      <th>bathrooms</th>\n",
       "      <th>stories</th>\n",
       "      <th>mainroad</th>\n",
       "      <th>guestroom</th>\n",
       "      <th>basement</th>\n",
       "      <th>hotwaterheating</th>\n",
       "      <th>airconditioning</th>\n",
       "      <th>parking</th>\n",
       "      <th>prefarea</th>\n",
       "      <th>furnishingstatus</th>\n",
       "    </tr>\n",
       "  </thead>\n",
       "  <tbody>\n",
       "    <tr>\n",
       "      <th>0</th>\n",
       "      <td>7420</td>\n",
       "      <td>4</td>\n",
       "      <td>2</td>\n",
       "      <td>3</td>\n",
       "      <td>yes</td>\n",
       "      <td>no</td>\n",
       "      <td>no</td>\n",
       "      <td>no</td>\n",
       "      <td>yes</td>\n",
       "      <td>2</td>\n",
       "      <td>yes</td>\n",
       "      <td>furnished</td>\n",
       "    </tr>\n",
       "    <tr>\n",
       "      <th>1</th>\n",
       "      <td>8960</td>\n",
       "      <td>4</td>\n",
       "      <td>4</td>\n",
       "      <td>4</td>\n",
       "      <td>yes</td>\n",
       "      <td>no</td>\n",
       "      <td>no</td>\n",
       "      <td>no</td>\n",
       "      <td>yes</td>\n",
       "      <td>3</td>\n",
       "      <td>no</td>\n",
       "      <td>furnished</td>\n",
       "    </tr>\n",
       "    <tr>\n",
       "      <th>2</th>\n",
       "      <td>9960</td>\n",
       "      <td>3</td>\n",
       "      <td>2</td>\n",
       "      <td>2</td>\n",
       "      <td>yes</td>\n",
       "      <td>no</td>\n",
       "      <td>yes</td>\n",
       "      <td>no</td>\n",
       "      <td>no</td>\n",
       "      <td>2</td>\n",
       "      <td>yes</td>\n",
       "      <td>semi-furnished</td>\n",
       "    </tr>\n",
       "    <tr>\n",
       "      <th>3</th>\n",
       "      <td>7500</td>\n",
       "      <td>4</td>\n",
       "      <td>2</td>\n",
       "      <td>2</td>\n",
       "      <td>yes</td>\n",
       "      <td>no</td>\n",
       "      <td>yes</td>\n",
       "      <td>no</td>\n",
       "      <td>yes</td>\n",
       "      <td>3</td>\n",
       "      <td>yes</td>\n",
       "      <td>furnished</td>\n",
       "    </tr>\n",
       "    <tr>\n",
       "      <th>4</th>\n",
       "      <td>7420</td>\n",
       "      <td>4</td>\n",
       "      <td>1</td>\n",
       "      <td>2</td>\n",
       "      <td>yes</td>\n",
       "      <td>yes</td>\n",
       "      <td>yes</td>\n",
       "      <td>no</td>\n",
       "      <td>yes</td>\n",
       "      <td>2</td>\n",
       "      <td>no</td>\n",
       "      <td>furnished</td>\n",
       "    </tr>\n",
       "    <tr>\n",
       "      <th>...</th>\n",
       "      <td>...</td>\n",
       "      <td>...</td>\n",
       "      <td>...</td>\n",
       "      <td>...</td>\n",
       "      <td>...</td>\n",
       "      <td>...</td>\n",
       "      <td>...</td>\n",
       "      <td>...</td>\n",
       "      <td>...</td>\n",
       "      <td>...</td>\n",
       "      <td>...</td>\n",
       "      <td>...</td>\n",
       "    </tr>\n",
       "    <tr>\n",
       "      <th>540</th>\n",
       "      <td>3000</td>\n",
       "      <td>2</td>\n",
       "      <td>1</td>\n",
       "      <td>1</td>\n",
       "      <td>yes</td>\n",
       "      <td>no</td>\n",
       "      <td>yes</td>\n",
       "      <td>no</td>\n",
       "      <td>no</td>\n",
       "      <td>2</td>\n",
       "      <td>no</td>\n",
       "      <td>unfurnished</td>\n",
       "    </tr>\n",
       "    <tr>\n",
       "      <th>541</th>\n",
       "      <td>2400</td>\n",
       "      <td>3</td>\n",
       "      <td>1</td>\n",
       "      <td>1</td>\n",
       "      <td>no</td>\n",
       "      <td>no</td>\n",
       "      <td>no</td>\n",
       "      <td>no</td>\n",
       "      <td>no</td>\n",
       "      <td>0</td>\n",
       "      <td>no</td>\n",
       "      <td>semi-furnished</td>\n",
       "    </tr>\n",
       "    <tr>\n",
       "      <th>542</th>\n",
       "      <td>3620</td>\n",
       "      <td>2</td>\n",
       "      <td>1</td>\n",
       "      <td>1</td>\n",
       "      <td>yes</td>\n",
       "      <td>no</td>\n",
       "      <td>no</td>\n",
       "      <td>no</td>\n",
       "      <td>no</td>\n",
       "      <td>0</td>\n",
       "      <td>no</td>\n",
       "      <td>unfurnished</td>\n",
       "    </tr>\n",
       "    <tr>\n",
       "      <th>543</th>\n",
       "      <td>2910</td>\n",
       "      <td>3</td>\n",
       "      <td>1</td>\n",
       "      <td>1</td>\n",
       "      <td>no</td>\n",
       "      <td>no</td>\n",
       "      <td>no</td>\n",
       "      <td>no</td>\n",
       "      <td>no</td>\n",
       "      <td>0</td>\n",
       "      <td>no</td>\n",
       "      <td>furnished</td>\n",
       "    </tr>\n",
       "    <tr>\n",
       "      <th>544</th>\n",
       "      <td>3850</td>\n",
       "      <td>3</td>\n",
       "      <td>1</td>\n",
       "      <td>2</td>\n",
       "      <td>yes</td>\n",
       "      <td>no</td>\n",
       "      <td>no</td>\n",
       "      <td>no</td>\n",
       "      <td>no</td>\n",
       "      <td>0</td>\n",
       "      <td>no</td>\n",
       "      <td>unfurnished</td>\n",
       "    </tr>\n",
       "  </tbody>\n",
       "</table>\n",
       "<p>545 rows × 12 columns</p>\n",
       "</div>"
      ],
      "text/plain": [
       "     area  bedrooms  bathrooms  stories mainroad guestroom basement  \\\n",
       "0    7420         4          2        3      yes        no       no   \n",
       "1    8960         4          4        4      yes        no       no   \n",
       "2    9960         3          2        2      yes        no      yes   \n",
       "3    7500         4          2        2      yes        no      yes   \n",
       "4    7420         4          1        2      yes       yes      yes   \n",
       "..    ...       ...        ...      ...      ...       ...      ...   \n",
       "540  3000         2          1        1      yes        no      yes   \n",
       "541  2400         3          1        1       no        no       no   \n",
       "542  3620         2          1        1      yes        no       no   \n",
       "543  2910         3          1        1       no        no       no   \n",
       "544  3850         3          1        2      yes        no       no   \n",
       "\n",
       "    hotwaterheating airconditioning  parking prefarea furnishingstatus  \n",
       "0                no             yes        2      yes        furnished  \n",
       "1                no             yes        3       no        furnished  \n",
       "2                no              no        2      yes   semi-furnished  \n",
       "3                no             yes        3      yes        furnished  \n",
       "4                no             yes        2       no        furnished  \n",
       "..              ...             ...      ...      ...              ...  \n",
       "540              no              no        2       no      unfurnished  \n",
       "541              no              no        0       no   semi-furnished  \n",
       "542              no              no        0       no      unfurnished  \n",
       "543              no              no        0       no        furnished  \n",
       "544              no              no        0       no      unfurnished  \n",
       "\n",
       "[545 rows x 12 columns]"
      ]
     },
     "execution_count": 13,
     "metadata": {},
     "output_type": "execute_result"
    }
   ],
   "source": [
    "X=df.drop('price',axis=1)\n",
    "y=df['price']\n",
    "X"
   ]
  },
  {
   "cell_type": "code",
   "execution_count": 14,
   "metadata": {
    "execution": {
     "iopub.execute_input": "2024-12-14T19:49:08.090360Z",
     "iopub.status.busy": "2024-12-14T19:49:08.089902Z",
     "iopub.status.idle": "2024-12-14T19:49:08.106874Z",
     "shell.execute_reply": "2024-12-14T19:49:08.105710Z",
     "shell.execute_reply.started": "2024-12-14T19:49:08.090321Z"
    },
    "trusted": true
   },
   "outputs": [],
   "source": [
    "X = pd.get_dummies(X,drop_first=True)\n",
    "# even tho sklearn can train the data directly , we still have to convet \n",
    "# so our math operation works.pd.get_dummie()change categories data into \n",
    "# one hot encoding . drop_first lower the data duplication .\n",
    "X = X.astype(int)\n",
    "\n",
    "X=X.to_numpy()\n",
    "y=y.to_numpy()\n",
    "\n"
   ]
  },
  {
   "cell_type": "code",
   "execution_count": 15,
   "metadata": {
    "execution": {
     "iopub.execute_input": "2024-12-14T19:49:08.109304Z",
     "iopub.status.busy": "2024-12-14T19:49:08.108897Z",
     "iopub.status.idle": "2024-12-14T19:49:08.115950Z",
     "shell.execute_reply": "2024-12-14T19:49:08.114729Z",
     "shell.execute_reply.started": "2024-12-14T19:49:08.109246Z"
    },
    "trusted": true
   },
   "outputs": [
    {
     "name": "stdout",
     "output_type": "stream",
     "text": [
      "[[ 7420     4     2     3     2     1     0     0     0     1     1     0\n",
      "      0]\n",
      " [ 8960     4     4     4     3     1     0     0     0     1     0     0\n",
      "      0]\n",
      " [ 9960     3     2     2     2     1     0     1     0     0     1     1\n",
      "      0]\n",
      " [ 7500     4     2     2     3     1     0     1     0     1     1     0\n",
      "      0]\n",
      " [ 7420     4     1     2     2     1     1     1     0     1     0     0\n",
      "      0]\n",
      " [ 7500     3     3     1     2     1     0     1     0     1     1     1\n",
      "      0]\n",
      " [ 8580     4     3     4     2     1     0     0     0     1     1     1\n",
      "      0]\n",
      " [16200     5     3     2     0     1     0     0     0     0     0     0\n",
      "      1]\n",
      " [ 8100     4     1     2     2     1     1     1     0     1     1     0\n",
      "      0]\n",
      " [ 5750     3     2     4     1     1     1     0     0     1     1     0\n",
      "      1]]\n"
     ]
    }
   ],
   "source": [
    "print(X[:10])"
   ]
  },
  {
   "cell_type": "code",
   "execution_count": 16,
   "metadata": {
    "execution": {
     "iopub.execute_input": "2024-12-14T19:49:08.220671Z",
     "iopub.status.busy": "2024-12-14T19:49:08.220179Z",
     "iopub.status.idle": "2024-12-14T19:49:08.226153Z",
     "shell.execute_reply": "2024-12-14T19:49:08.225083Z",
     "shell.execute_reply.started": "2024-12-14T19:49:08.220630Z"
    },
    "trusted": true
   },
   "outputs": [],
   "source": [
    "def zscore_normalize_features(X):\n",
    "    ## feature scaling all features ,without it we might faced memory overflow.\n",
    "    mu=np.mean(X,axis=0)\n",
    "    sigma=np.std(X,axis=0)\n",
    "    X_norm=(X-mu)/sigma\n",
    "    \n",
    "    return X_norm"
   ]
  },
  {
   "cell_type": "code",
   "execution_count": 17,
   "metadata": {
    "execution": {
     "iopub.execute_input": "2024-12-14T19:49:08.396283Z",
     "iopub.status.busy": "2024-12-14T19:49:08.395876Z",
     "iopub.status.idle": "2024-12-14T19:49:08.406058Z",
     "shell.execute_reply": "2024-12-14T19:49:08.404036Z",
     "shell.execute_reply.started": "2024-12-14T19:49:08.396247Z"
    },
    "trusted": true
   },
   "outputs": [
    {
     "name": "stdout",
     "output_type": "stream",
     "text": [
      "[[ 7420     4     2     3     2     1     0     0     0     1     1     0\n",
      "      0]\n",
      " [ 8960     4     4     4     3     1     0     0     0     1     0     0\n",
      "      0]\n",
      " [ 9960     3     2     2     2     1     0     1     0     0     1     1\n",
      "      0]\n",
      " [ 7500     4     2     2     3     1     0     1     0     1     1     0\n",
      "      0]\n",
      " [ 7420     4     1     2     2     1     1     1     0     1     0     0\n",
      "      0]\n",
      " [ 7500     3     3     1     2     1     0     1     0     1     1     1\n",
      "      0]\n",
      " [ 8580     4     3     4     2     1     0     0     0     1     1     1\n",
      "      0]\n",
      " [16200     5     3     2     0     1     0     0     0     0     0     0\n",
      "      1]\n",
      " [ 8100     4     1     2     2     1     1     1     0     1     1     0\n",
      "      0]\n",
      " [ 5750     3     2     4     1     1     1     0     0     1     1     0\n",
      "      1]]\n",
      "[[ 1.04672629  1.40341936  1.42181174  1.37821692  1.51769249  0.40562287\n",
      "  -0.46531479 -0.73453933 -0.2192645   1.4726183   1.80494113 -0.84488844\n",
      "  -0.6964292 ]\n",
      " [ 1.75700953  1.40341936  5.40580863  2.53202371  2.67940935  0.40562287\n",
      "  -0.46531479 -0.73453933 -0.2192645   1.4726183  -0.55403469 -0.84488844\n",
      "  -0.6964292 ]\n",
      " [ 2.21823241  0.04727831  1.42181174  0.22441013  1.51769249  0.40562287\n",
      "  -0.46531479  1.3613975  -0.2192645  -0.67906259  1.80494113  1.18358821\n",
      "  -0.6964292 ]\n",
      " [ 1.08362412  1.40341936  1.42181174  0.22441013  2.67940935  0.40562287\n",
      "  -0.46531479  1.3613975  -0.2192645   1.4726183   1.80494113 -0.84488844\n",
      "  -0.6964292 ]\n",
      " [ 1.04672629  1.40341936 -0.57018671  0.22441013  1.51769249  0.40562287\n",
      "   2.14908276  1.3613975  -0.2192645   1.4726183  -0.55403469 -0.84488844\n",
      "  -0.6964292 ]\n",
      " [ 1.08362412  0.04727831  3.41381019 -0.92939666  1.51769249  0.40562287\n",
      "  -0.46531479  1.3613975  -0.2192645   1.4726183   1.80494113  1.18358821\n",
      "  -0.6964292 ]\n",
      " [ 1.58174483  1.40341936  3.41381019  2.53202371  1.51769249  0.40562287\n",
      "  -0.46531479 -0.73453933 -0.2192645   1.4726183   1.80494113  1.18358821\n",
      "  -0.6964292 ]\n",
      " [ 5.09626319  2.7595604   3.41381019  0.22441013 -0.80574124  0.40562287\n",
      "  -0.46531479 -0.73453933 -0.2192645  -0.67906259 -0.55403469 -0.84488844\n",
      "   1.43589615]\n",
      " [ 1.36035785  1.40341936 -0.57018671  0.22441013  1.51769249  0.40562287\n",
      "   2.14908276  1.3613975  -0.2192645   1.4726183   1.80494113 -0.84488844\n",
      "  -0.6964292 ]\n",
      " [ 0.27648408  0.04727831  1.42181174  2.53202371  0.35597563  0.40562287\n",
      "   2.14908276 -0.73453933 -0.2192645   1.4726183   1.80494113 -0.84488844\n",
      "   1.43589615]]\n"
     ]
    }
   ],
   "source": [
    "print(X[:10])\n",
    "\n",
    "X=zscore_normalize_features(X)\n",
    "print(X[:10])\n"
   ]
  },
  {
   "cell_type": "code",
   "execution_count": 18,
   "metadata": {
    "execution": {
     "iopub.execute_input": "2024-12-14T19:49:08.572597Z",
     "iopub.status.busy": "2024-12-14T19:49:08.572139Z",
     "iopub.status.idle": "2024-12-14T19:49:08.580722Z",
     "shell.execute_reply": "2024-12-14T19:49:08.579242Z",
     "shell.execute_reply.started": "2024-12-14T19:49:08.572556Z"
    },
    "trusted": true
   },
   "outputs": [
    {
     "name": "stdout",
     "output_type": "stream",
     "text": [
      "shape of X_train(436, 13), shape of y train(436,)\n",
      "shape of X_test(109, 13), shape of y_test(109,)\n"
     ]
    }
   ],
   "source": [
    "X_train,X_test,y_train,y_test=train_test_split(X,y,test_size=0.2)\n",
    "# Reset indices ,always try to check the shape of data .\n",
    "print(f\"shape of X_train{X_train.shape}, shape of y train{y_train.shape}\")\n",
    "print(f\"shape of X_test{X_test.shape}, shape of y_test{y_test.shape}\")\n"
   ]
  },
  {
   "cell_type": "code",
   "execution_count": 19,
   "metadata": {
    "execution": {
     "iopub.execute_input": "2024-12-14T19:49:08.723967Z",
     "iopub.status.busy": "2024-12-14T19:49:08.723558Z",
     "iopub.status.idle": "2024-12-14T19:49:08.731069Z",
     "shell.execute_reply": "2024-12-14T19:49:08.729673Z",
     "shell.execute_reply.started": "2024-12-14T19:49:08.723932Z"
    },
    "trusted": true
   },
   "outputs": [],
   "source": [
    "def compute_cost(x,y,w,b):\n",
    "    ## computing the cost ,beware we are looping through all the observation , not features.\n",
    "    m=x.shape[0]## 436 not 13\n",
    "    \n",
    "    cost = 0.0\n",
    "    for i in range(m):\n",
    "        f_wb_i=np.dot(x[i],w)+b\n",
    "        cost=cost+(f_wb_i-y[i])**2\n",
    "    cost=cost/(2*m)\n",
    "        \n",
    "    return cost"
   ]
  },
  {
   "cell_type": "code",
   "execution_count": 20,
   "metadata": {
    "execution": {
     "iopub.execute_input": "2024-12-14T19:49:08.930057Z",
     "iopub.status.busy": "2024-12-14T19:49:08.929343Z",
     "iopub.status.idle": "2024-12-14T19:49:08.939047Z",
     "shell.execute_reply": "2024-12-14T19:49:08.937969Z",
     "shell.execute_reply.started": "2024-12-14T19:49:08.929993Z"
    },
    "trusted": true
   },
   "outputs": [
    {
     "name": "stdout",
     "output_type": "stream",
     "text": [
      "13036625255996.102\n"
     ]
    }
   ],
   "source": [
    "n=X_train.shape[1]\n",
    "init_w=np.zeros(n)## we will get the number of features and create initilal_w.\n",
    "init_b=0\n",
    "total_cost=compute_cost(X_train,y_train,init_w,init_b)\n",
    "print(total_cost)"
   ]
  },
  {
   "cell_type": "code",
   "execution_count": 21,
   "metadata": {
    "execution": {
     "iopub.execute_input": "2024-12-14T19:49:09.081041Z",
     "iopub.status.busy": "2024-12-14T19:49:09.080620Z",
     "iopub.status.idle": "2024-12-14T19:49:09.088618Z",
     "shell.execute_reply": "2024-12-14T19:49:09.087018Z",
     "shell.execute_reply.started": "2024-12-14T19:49:09.080992Z"
    },
    "trusted": true
   },
   "outputs": [],
   "source": [
    "def compute_gradient(x,y,w,b):\n",
    "    m=x.shape[0]\n",
    "    ## computing the gradient ,beware we are looping through all the observation , not features.\n",
    "\n",
    "    temp_dj_dw=0\n",
    "    temp_dj_db=0\n",
    "    for i in range(m):\n",
    "        f_wb_i=np.dot(x[i],w)+b\n",
    "        dj_db_i=f_wb_i-y[i]\n",
    "        dj_dw_i=(f_wb_i-y[i])*x[i]\n",
    "        temp_dj_db+=dj_db_i\n",
    "        temp_dj_dw+=dj_dw_i\n",
    "        \n",
    "    dj_db=temp_dj_db/m\n",
    "    dj_dw=temp_dj_dw/m\n",
    "    \n",
    "    return dj_db,dj_dw\n",
    "        "
   ]
  },
  {
   "cell_type": "code",
   "execution_count": 22,
   "metadata": {
    "execution": {
     "iopub.execute_input": "2024-12-14T19:49:09.214036Z",
     "iopub.status.busy": "2024-12-14T19:49:09.213632Z",
     "iopub.status.idle": "2024-12-14T19:49:09.227191Z",
     "shell.execute_reply": "2024-12-14T19:49:09.225985Z",
     "shell.execute_reply.started": "2024-12-14T19:49:09.214002Z"
    },
    "trusted": true
   },
   "outputs": [
    {
     "name": "stdout",
     "output_type": "stream",
     "text": [
      "(np.float64(-4756378.302752294), array([-985083.82475709, -794572.52605512, -943713.50403544,\n",
      "       -966186.85186011, -689744.2915382 , -558062.35766305,\n",
      "       -511861.52584936, -276405.97253964, -129030.95530158,\n",
      "       -715385.95492515, -655249.96490504,   78179.16410436,\n",
      "        496857.58065177]))\n"
     ]
    },
    {
     "data": {
      "text/plain": [
       "13"
      ]
     },
     "execution_count": 22,
     "metadata": {},
     "output_type": "execute_result"
    }
   ],
   "source": [
    "gradient=compute_gradient(X_train,y_train,init_w,init_b)\n",
    "print(gradient)\n",
    "X_train.shape[1]"
   ]
  },
  {
   "cell_type": "code",
   "execution_count": 23,
   "metadata": {
    "execution": {
     "iopub.execute_input": "2024-12-14T19:49:09.392151Z",
     "iopub.status.busy": "2024-12-14T19:49:09.391074Z",
     "iopub.status.idle": "2024-12-14T19:49:09.400057Z",
     "shell.execute_reply": "2024-12-14T19:49:09.398685Z",
     "shell.execute_reply.started": "2024-12-14T19:49:09.392103Z"
    },
    "trusted": true
   },
   "outputs": [],
   "source": [
    "def gradient_descent(x,y,w_in,b_in,compute_cost,compute_gradient,alpha,iterations):\n",
    "    # computing gradient descent\n",
    "    J_history=[]\n",
    "    w=copy.deepcopy(w_in)\n",
    "    b=b_in\n",
    "    for i in range(iterations):\n",
    "        dj_db,dj_dw=compute_gradient(x,y,w,b)\n",
    "        w=w-(alpha*dj_dw)\n",
    "        b=b-(alpha*dj_db)\n",
    "        \n",
    "        if i<100000:# Without this check, if there are many iterations (e.g., millions), appending to J_history could:\n",
    "#Exhaust memory (resource exhaustion).\n",
    "            cost=compute_cost(x,y,w,b)\n",
    "            J_history.append(cost)\n",
    "        if i%math.ceil(iterations/10)==0:\n",
    "            print(f\"Iteration {i:4d}: Cost {J_history[-1]:8.2f}\")\n",
    "    return w,b,J_history"
   ]
  },
  {
   "cell_type": "code",
   "execution_count": 24,
   "metadata": {
    "execution": {
     "iopub.execute_input": "2024-12-14T19:49:09.573802Z",
     "iopub.status.busy": "2024-12-14T19:49:09.573246Z"
    },
    "trusted": true
   },
   "outputs": [
    {
     "name": "stdout",
     "output_type": "stream",
     "text": [
      "Iteration    0: Cost 12754610258197.71\n",
      "Iteration 1000: Cost 560786860160.44\n",
      "Iteration 2000: Cost 560781182983.14\n",
      "Iteration 3000: Cost 560781180886.63\n",
      "Iteration 4000: Cost 560781180885.74\n",
      "Iteration 5000: Cost 560781180885.74\n",
      "Iteration 6000: Cost 560781180885.74\n",
      "Iteration 7000: Cost 560781180885.74\n",
      "Iteration 8000: Cost 560781180885.74\n",
      "Iteration 9000: Cost 560781180885.74\n"
     ]
    }
   ],
   "source": [
    "iterations=10000\n",
    "alpha = 0.01\n",
    "w_final,b_final,J_hist=gradient_descent(X_train,y_train,init_w,init_b,compute_cost,compute_gradient,alpha,iterations)\n"
   ]
  },
  {
   "cell_type": "code",
   "execution_count": 25,
   "metadata": {
    "trusted": true
   },
   "outputs": [
    {
     "name": "stdout",
     "output_type": "stream",
     "text": [
      "[ 517865.37872467   95535.59255993  472598.58076779  417896.4672048\n",
      "  269658.77157601  150158.07832952  113027.5472964   189573.89429781\n",
      "  182213.32012104  368054.34145808  237430.76169667   17635.85931687\n",
      " -183537.52624859] 4752276.504215364\n"
     ]
    }
   ],
   "source": [
    "print(w_final,b_final)"
   ]
  },
  {
   "cell_type": "code",
   "execution_count": 26,
   "metadata": {
    "trusted": true
   },
   "outputs": [
    {
     "data": {
      "image/png": "[encoded data removed]",
      "text/plain": [
       "<Figure size 1200x400 with 2 Axes>"
      ]
     },
     "metadata": {},
     "output_type": "display_data"
    }
   ],
   "source": [
    "# plot cost versus iteration  \n",
    "fig, (ax1, ax2) = plt.subplots(1, 2, constrained_layout=True, figsize=(12, 4))\n",
    "ax1.plot(J_hist)\n",
    "ax2.plot(100 + np.arange(len(J_hist[100:])), J_hist[100:])\n",
    "ax1.set_title(\"Cost vs. iteration\");  ax2.set_title(\"Cost vs. iteration (tail)\")\n",
    "ax1.set_ylabel('Cost')             ;  ax2.set_ylabel('Cost') \n",
    "ax1.set_xlabel('iteration step')   ;  ax2.set_xlabel('iteration step') \n",
    "plt.show()"
   ]
  },
  {
   "cell_type": "code",
   "execution_count": 27,
   "metadata": {
    "execution": {
     "iopub.execute_input": "2024-12-06T06:33:15.616221Z",
     "iopub.status.busy": "2024-12-06T06:33:15.615868Z",
     "iopub.status.idle": "2024-12-06T06:33:15.62285Z",
     "shell.execute_reply": "2024-12-06T06:33:15.621679Z",
     "shell.execute_reply.started": "2024-12-06T06:33:15.616186Z"
    },
    "trusted": true
   },
   "outputs": [],
   "source": [
    "def R_squared(x,y,w,b):\n",
    "    m=x.shape[0]\n",
    "    sqr_error=0\n",
    "    mean_sqr_error=0\n",
    "    mu=np.mean(y,axis=0)\n",
    "  \n",
    "    for i in range(m):\n",
    "        y_pred=np.dot(x[i],w)+b\n",
    "        temp_sqr_error=(y[i]-y_pred)**2\n",
    "        sqr_error+=temp_sqr_error\n",
    "        \n",
    "        temp_mean_sqr_error=(y[i]-mu)**2\n",
    "        mean_sqr_error+=temp_mean_sqr_error\n",
    "        \n",
    "    R_squared=1- (sqr_error/mean_sqr_error)\n",
    "    \n",
    "    return R_squared"
   ]
  },
  {
   "cell_type": "code",
   "execution_count": 28,
   "metadata": {
    "execution": {
     "iopub.execute_input": "2024-12-06T06:33:15.62445Z",
     "iopub.status.busy": "2024-12-06T06:33:15.624126Z",
     "iopub.status.idle": "2024-12-06T06:33:15.643508Z",
     "shell.execute_reply": "2024-12-06T06:33:15.642388Z",
     "shell.execute_reply.started": "2024-12-06T06:33:15.624417Z"
    },
    "trusted": true
   },
   "outputs": [
    {
     "name": "stdout",
     "output_type": "stream",
     "text": [
      "0.6994993980225338\n"
     ]
    }
   ],
   "source": [
    "\n",
    "accuracy=R_squared(X_test,y_test,w_final,b_final)\n",
    "print(accuracy)"
   ]
  },
  {
   "cell_type": "code",
   "execution_count": 29,
   "metadata": {
    "execution": {
     "iopub.execute_input": "2024-12-06T06:33:15.645369Z",
     "iopub.status.busy": "2024-12-06T06:33:15.644947Z",
     "iopub.status.idle": "2024-12-06T06:33:15.655744Z",
     "shell.execute_reply": "2024-12-06T06:33:15.654704Z",
     "shell.execute_reply.started": "2024-12-06T06:33:15.645322Z"
    },
    "trusted": true
   },
   "outputs": [
    {
     "name": "stdout",
     "output_type": "stream",
     "text": [
      "5818215.155618196 6720000\n"
     ]
    }
   ],
   "source": [
    "y_pred=np.dot(X_test[1],w_final)+b_final\n",
    "print(y_pred,y_test[1])"
   ]
  },
  {
   "cell_type": "code",
   "execution_count": 30,
   "metadata": {
    "execution": {
     "iopub.execute_input": "2024-12-06T06:33:15.657561Z",
     "iopub.status.busy": "2024-12-06T06:33:15.657131Z",
     "iopub.status.idle": "2024-12-06T06:33:15.78832Z",
     "shell.execute_reply": "2024-12-06T06:33:15.787097Z",
     "shell.execute_reply.started": "2024-12-06T06:33:15.657513Z"
    },
    "trusted": true
   },
   "outputs": [
    {
     "name": "stdout",
     "output_type": "stream",
     "text": [
      "0.6994993980225346\n",
      "0.6994993980225346\n"
     ]
    }
   ],
   "source": [
    "from sklearn.linear_model import LinearRegression\n",
    "from sklearn.metrics import mean_squared_error, r2_score\n",
    "\n",
    "model = LinearRegression()\n",
    "model.fit(X_train, y_train)  # X_train: multiple features\n",
    "y_pred = model.predict(X_test)\n",
    "score=model.score(X_test,y_test)\n",
    "print(score)\n",
    "mse = mean_squared_error(y_test, y_pred)\n",
    "r2 = r2_score(y_test, y_pred)\n",
    "print(r2)"
   ]
  },
  {
   "cell_type": "code",
   "execution_count": 31,
   "metadata": {},
   "outputs": [
    {
     "name": "stdout",
     "output_type": "stream",
     "text": [
      "Feature 1: Coefficient: 517865.3787, Standard Error: 141588.3114, t-statistic: 3.6575, p-value: 0.0004\n",
      "Feature 2: Coefficient: 95535.5926, Standard Error: 144896.0980, t-statistic: 0.6593, p-value: 0.5113\n",
      "Feature 3: Coefficient: 472598.5808, Standard Error: 121748.5323, t-statistic: 3.8818, p-value: 0.0002\n",
      "Feature 4: Coefficient: 417896.4672, Standard Error: 130805.9908, t-statistic: 3.1948, p-value: 0.0019\n",
      "Feature 5: Coefficient: 269658.7716, Standard Error: 124764.4495, t-statistic: 2.1613, p-value: 0.0332\n",
      "Feature 6: Coefficient: 150158.0783, Standard Error: 122152.9695, t-statistic: 1.2293, p-value: 0.2220\n",
      "Feature 7: Coefficient: 113027.5473, Standard Error: 124058.0429, t-statistic: 0.9111, p-value: 0.3646\n",
      "Feature 8: Coefficient: 189573.8943, Standard Error: 130901.1542, t-statistic: 1.4482, p-value: 0.1508\n",
      "Feature 9: Coefficient: 182213.3201, Standard Error: 97609.9272, t-statistic: 1.8667, p-value: 0.0650\n",
      "Feature 10: Coefficient: 368054.3415, Standard Error: 118948.0961, t-statistic: 3.0942, p-value: 0.0026\n",
      "Feature 11: Coefficient: 237430.7617, Standard Error: 127354.7700, t-statistic: 1.8643, p-value: 0.0654\n",
      "Feature 12: Coefficient: 17635.8593, Standard Error: 151727.6258, t-statistic: 0.1162, p-value: 0.9077\n",
      "Feature 13: Coefficient: -183537.5262, Standard Error: 162634.4362, t-statistic: -1.1285, p-value: 0.2619\n",
      "Feature 1 is statistically significant (p-value < 0.05).\n",
      "Feature 2 is not statistically significant (p-value >= 0.05).\n",
      "Feature 3 is statistically significant (p-value < 0.05).\n",
      "Feature 4 is statistically significant (p-value < 0.05).\n",
      "Feature 5 is statistically significant (p-value < 0.05).\n",
      "Feature 6 is not statistically significant (p-value >= 0.05).\n",
      "Feature 7 is not statistically significant (p-value >= 0.05).\n",
      "Feature 8 is not statistically significant (p-value >= 0.05).\n",
      "Feature 9 is not statistically significant (p-value >= 0.05).\n",
      "Feature 10 is statistically significant (p-value < 0.05).\n",
      "Feature 11 is not statistically significant (p-value >= 0.05).\n",
      "Feature 12 is not statistically significant (p-value >= 0.05).\n",
      "Feature 13 is not statistically significant (p-value >= 0.05).\n"
     ]
    }
   ],
   "source": [
    "import scipy.stats as stats\n",
    "\n",
    "# Function to compute the standard error of coefficients\n",
    "def compute_standard_error(X, y, w, b):\n",
    "    m = X.shape[0]\n",
    "    predictions = np.dot(X, w) + b\n",
    "    residuals = y - predictions\n",
    "    residual_sum_of_squares = np.dot(residuals.T, residuals)\n",
    "    \n",
    "    # Compute standard error of the regression coefficients\n",
    "    X_transpose = X.T\n",
    "    variance_of_coefficients = residual_sum_of_squares / (m - X.shape[1] - 1)  # Degrees of freedom: m - n - 1\n",
    "    covariance_matrix = variance_of_coefficients * np.linalg.inv(np.dot(X_transpose, X))\n",
    "    \n",
    "    standard_errors = np.sqrt(np.diag(covariance_matrix))\n",
    "    return standard_errors\n",
    "\n",
    "# Function to perform hypothesis testing for each coefficient\n",
    "def hypothesis_testing(X, y, w, b):\n",
    "    # Compute standard errors\n",
    "    standard_errors = compute_standard_error(X, y, w, b)\n",
    "    \n",
    "    # Calculate the t-statistics for each coefficient\n",
    "    t_stats = w / standard_errors\n",
    "    \n",
    "    # Degrees of freedom (number of observations - number of features - 1)\n",
    "    m = X.shape[0]\n",
    "    df = m - X.shape[1] - 1\n",
    "    \n",
    "    # Calculate p-values for each coefficient\n",
    "    p_values = [2 * (1 - stats.t.cdf(np.abs(t), df)) for t in t_stats]\n",
    "    \n",
    "    # Display the results\n",
    "    for i in range(len(w)):\n",
    "        print(f\"Feature {i+1}: Coefficient: {w[i]:.4f}, Standard Error: {standard_errors[i]:.4f}, t-statistic: {t_stats[i]:.4f}, p-value: {p_values[i]:.4f}\")\n",
    "    \n",
    "    return t_stats, p_values\n",
    "\n",
    "# Perform hypothesis testing for the model\n",
    "t_stats, p_values = hypothesis_testing(X_test, y_test, w_final, b_final)\n",
    "\n",
    "# Interpretation of p-values (typically, p-value < 0.05 means the feature is statistically significant)\n",
    "for i, p_value in enumerate(p_values):\n",
    "    if p_value < 0.05:\n",
    "        print(f\"Feature {i+1} is statistically significant (p-value < 0.05).\")\n",
    "    else:\n",
    "        print(f\"Feature {i+1} is not statistically significant (p-value >= 0.05).\")\n"
   ]
  }
 ],
 "metadata": {
  "kaggle": {
   "accelerator": "none",
   "dataSources": [
    {
     "datasetId": 1859421,
     "sourceId": 3036086,
     "sourceType": "datasetVersion"
    }
   ],
   "isGpuEnabled": false,
   "isInternetEnabled": true,
   "language": "python",
   "sourceType": "notebook"
  },
  "kernelspec": {
   "display_name": "Python 3",
   "language": "python",
   "name": "python3"
  },
  "language_info": {
   "codemirror_mode": {
    "name": "ipython",
    "version": 3
   },
   "file_extension": ".py",
   "mimetype": "text/x-python",
   "name": "python",
   "nbconvert_exporter": "python",
   "pygments_lexer": "ipython3",
   "version": "3.12.4"
  }
 },
 "nbformat": 4,
 "nbformat_minor": 4
}
